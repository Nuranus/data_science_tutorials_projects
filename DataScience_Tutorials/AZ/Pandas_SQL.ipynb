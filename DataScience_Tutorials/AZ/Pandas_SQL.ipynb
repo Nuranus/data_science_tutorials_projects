{
 "cells": [
  {
   "cell_type": "markdown",
   "metadata": {},
   "source": [
    "# Pandas ilə SQLvari sorğuların yazılması\n",
    "![head.jpg](https://github.com/limpapud/data_science_tutorials_projects/raw/master/DataScience_Tutorials/AZ/assets/head.jpg)"
   ]
  },
  {
   "cell_type": "markdown",
   "metadata": {},
   "source": [
    "SQL ilə heç olmasa qismən tanışlığı olan adam *\"SQL-in əsasların bir neçə saat ərzində öyrənib ilk sorğuları yazmaq olar\"* cümləsi ilə razılaşar (hər halda mən bu cür fikirləşirəm). Python ilə də eynən, bu dil ən sadə və proqramlaşdırmanı öyrənməyə başlayanlar üçün ideal dil sayılır.\n",
    "İndi, verilənlər elmi və məlumat analizi ən trend mövzu olan vaxtda Python-un **Pandas** modulu vasitəsi ilə SQL kimi məlumat emal etmə məqaləsi elə lap yerinə düşərdi, və budur o!\n",
    "\n",
    "Jurnalda SQL-da DML (Məlumat Manipulyasiyası Dili) vasitəsi ilə icra olunan məlumatın sorğulanması (SELECT), məlumatın daxil olunması (INSERT), məlumat pozulması (DELETE) və məlumat yeniləməsi (UPDATE) komandalarının Pandas analoqları təqdim olunacaq. Hər iki variantda sorğular icra olunacaq və göstəriləcək.\n",
    "\n",
    "#### Başlayaq!\n",
    "İşə Pandasın importundan başlayırıq:"
   ]
  },
  {
   "cell_type": "code",
   "execution_count": 1,
   "metadata": {},
   "outputs": [],
   "source": [
    "import pandas as pd"
   ]
  },
  {
   "cell_type": "markdown",
   "metadata": {},
   "source": [
    "Jurnalın daxilində 2 cədvəldən istifadə olunacaq və onlar **dummy_data.xlsx** Excel faylının ayrı-ayrı səhifələrinə yerləşir.\n",
    "* staff - İşçinin \"unikal identifikatoru\", \"adı\", \"soyadı\", \"cinsi\", \"küçə\", \"şirkət\", \"vəzifəsi\"\n",
    "* staff_add_info - \"unikal identifikatoru\", \"email ünvan\", \"aktivlik statusu\", \"istifadəçi adı\", \"MD5-də saxlanan şifrə\", \"mobil_nömrəsi\"\n",
    "\n",
    "Cədvəllərin ortaq identifikatoru - \"guid\" sütunudur.\n",
    "\n",
    "İşləyəcəyimiz cədvəllər haqqında ümumi məlumat aldıq, datafreymlərə keçirmək olar:"
   ]
  },
  {
   "cell_type": "code",
   "execution_count": 2,
   "metadata": {},
   "outputs": [],
   "source": [
    "# ilk öncə açacağımız faylın adın, sonra isə səhifənin adın qeyd edirik\n",
    "staff_df = pd.read_excel('https://raw.githubusercontent.com/limpapud/datasets/master/Tutorial_datasets/SQL_Pandas.xlsx',sheet_name='staff') \n",
    "staff_add_info = pd.read_excel(\"https://raw.githubusercontent.com/limpapud/datasets/master/Tutorial_datasets/SQL_Pandas.xlsx\",sheet_name='staff_add_info')"
   ]
  },
  {
   "cell_type": "code",
   "execution_count": 3,
   "metadata": {},
   "outputs": [
    {
     "data": {
      "text/html": [
       "<div>\n",
       "<style scoped>\n",
       "    .dataframe tbody tr th:only-of-type {\n",
       "        vertical-align: middle;\n",
       "    }\n",
       "\n",
       "    .dataframe tbody tr th {\n",
       "        vertical-align: top;\n",
       "    }\n",
       "\n",
       "    .dataframe thead th {\n",
       "        text-align: right;\n",
       "    }\n",
       "</style>\n",
       "<table border=\"1\" class=\"dataframe\">\n",
       "  <thead>\n",
       "    <tr style=\"text-align: right;\">\n",
       "      <th></th>\n",
       "      <th>guid</th>\n",
       "      <th>first_name</th>\n",
       "      <th>last_name</th>\n",
       "      <th>gender</th>\n",
       "      <th>street</th>\n",
       "      <th>company</th>\n",
       "      <th>job_title</th>\n",
       "    </tr>\n",
       "  </thead>\n",
       "  <tbody>\n",
       "    <tr>\n",
       "      <th>0</th>\n",
       "      <td>6a9472d4-4949-4f98-8543-c6878d558422</td>\n",
       "      <td>Rhoda</td>\n",
       "      <td>Halbert</td>\n",
       "      <td>Female</td>\n",
       "      <td>NaN</td>\n",
       "      <td>Zooveo</td>\n",
       "      <td>Registered Nurse</td>\n",
       "    </tr>\n",
       "    <tr>\n",
       "      <th>1</th>\n",
       "      <td>3e89c11d-fd66-427f-a294-029fde1a4e40</td>\n",
       "      <td>Nial</td>\n",
       "      <td>Doggett</td>\n",
       "      <td>Male</td>\n",
       "      <td>Londonderry</td>\n",
       "      <td>Demizz</td>\n",
       "      <td>Account Executive</td>\n",
       "    </tr>\n",
       "    <tr>\n",
       "      <th>2</th>\n",
       "      <td>8c37f0ca-75c5-42f9-8f45-92f1fc2cb027</td>\n",
       "      <td>Valentina</td>\n",
       "      <td>Stenners</td>\n",
       "      <td>Female</td>\n",
       "      <td>Tony</td>\n",
       "      <td>Wikizz</td>\n",
       "      <td>Safety Technician I</td>\n",
       "    </tr>\n",
       "  </tbody>\n",
       "</table>\n",
       "</div>"
      ],
      "text/plain": [
       "                                   guid first_name last_name  gender  \\\n",
       "0  6a9472d4-4949-4f98-8543-c6878d558422      Rhoda   Halbert  Female   \n",
       "1  3e89c11d-fd66-427f-a294-029fde1a4e40       Nial   Doggett    Male   \n",
       "2  8c37f0ca-75c5-42f9-8f45-92f1fc2cb027  Valentina  Stenners  Female   \n",
       "\n",
       "        street company            job_title  \n",
       "0          NaN  Zooveo     Registered Nurse  \n",
       "1  Londonderry  Demizz    Account Executive  \n",
       "2         Tony  Wikizz  Safety Technician I  "
      ]
     },
     "execution_count": 3,
     "metadata": {},
     "output_type": "execute_result"
    }
   ],
   "source": [
    "staff_df.head(3) # Məlumatın ilk 3 sətrin əks etdir"
   ]
  },
  {
   "cell_type": "code",
   "execution_count": 4,
   "metadata": {},
   "outputs": [
    {
     "data": {
      "text/html": [
       "<div>\n",
       "<style scoped>\n",
       "    .dataframe tbody tr th:only-of-type {\n",
       "        vertical-align: middle;\n",
       "    }\n",
       "\n",
       "    .dataframe tbody tr th {\n",
       "        vertical-align: top;\n",
       "    }\n",
       "\n",
       "    .dataframe thead th {\n",
       "        text-align: right;\n",
       "    }\n",
       "</style>\n",
       "<table border=\"1\" class=\"dataframe\">\n",
       "  <thead>\n",
       "    <tr style=\"text-align: right;\">\n",
       "      <th></th>\n",
       "      <th>guid</th>\n",
       "      <th>email</th>\n",
       "      <th>a_status</th>\n",
       "      <th>username</th>\n",
       "      <th>password</th>\n",
       "      <th>phone_number</th>\n",
       "    </tr>\n",
       "  </thead>\n",
       "  <tbody>\n",
       "    <tr>\n",
       "      <th>0</th>\n",
       "      <td>6a9472d4-4949-4f98-8543-c6878d558422</td>\n",
       "      <td>rhalbert0@mashable.com</td>\n",
       "      <td>False</td>\n",
       "      <td>rhalbert0</td>\n",
       "      <td>99a0837db38c3fb198371fc78336f1ec</td>\n",
       "      <td>+62 (345) 865-9966</td>\n",
       "    </tr>\n",
       "    <tr>\n",
       "      <th>1</th>\n",
       "      <td>3e89c11d-fd66-427f-a294-029fde1a4e40</td>\n",
       "      <td>ndoggett1@odnoklassniki.ru</td>\n",
       "      <td>True</td>\n",
       "      <td>ndoggett1</td>\n",
       "      <td>e6cb5bfd91b8fe6f750837b5c669cb2a</td>\n",
       "      <td>+7 (947) 890-1005</td>\n",
       "    </tr>\n",
       "    <tr>\n",
       "      <th>2</th>\n",
       "      <td>8c37f0ca-75c5-42f9-8f45-92f1fc2cb027</td>\n",
       "      <td>vstenners2@umn.edu</td>\n",
       "      <td>True</td>\n",
       "      <td>vstenners2</td>\n",
       "      <td>2c6ac4200d1e8efae067e35eb61ba349</td>\n",
       "      <td>+62 (373) 436-5895</td>\n",
       "    </tr>\n",
       "  </tbody>\n",
       "</table>\n",
       "</div>"
      ],
      "text/plain": [
       "                                   guid                       email  a_status  \\\n",
       "0  6a9472d4-4949-4f98-8543-c6878d558422      rhalbert0@mashable.com     False   \n",
       "1  3e89c11d-fd66-427f-a294-029fde1a4e40  ndoggett1@odnoklassniki.ru      True   \n",
       "2  8c37f0ca-75c5-42f9-8f45-92f1fc2cb027          vstenners2@umn.edu      True   \n",
       "\n",
       "     username                          password        phone_number  \n",
       "0   rhalbert0  99a0837db38c3fb198371fc78336f1ec  +62 (345) 865-9966  \n",
       "1   ndoggett1  e6cb5bfd91b8fe6f750837b5c669cb2a   +7 (947) 890-1005  \n",
       "2  vstenners2  2c6ac4200d1e8efae067e35eb61ba349  +62 (373) 436-5895  "
      ]
     },
     "execution_count": 4,
     "metadata": {},
     "output_type": "execute_result"
    }
   ],
   "source": [
    "staff_add_info.head(3)"
   ]
  },
  {
   "cell_type": "markdown",
   "metadata": {},
   "source": [
    "Pandas modulu ilə işin nümaişi 2 hissədən ibarət olacaq:\n",
    "1. Real SQL əmr sorğusunun yazılması və icrası\n",
    "2. Yazılmış sorğunun analoqunun datafreymlər üzərində Pandas vasitəsi ilə icrası"
   ]
  },
  {
   "cell_type": "markdown",
   "metadata": {},
   "source": [
    "### SELECT\n",
    "\n",
    "SQL-də SELECT əmri məlumatın sorğulanması və əldə edilməsi üçün istifadə olunur.\n",
    "\n",
    "Deyək ki biz *staff_db* cədvəlindən bütün sütun və sətrləri əldə etmək istəyirik. Bunun üçün yazılmış SQL sorğusu aşağıdaki kimidir:\n",
    "\n",
    "**SELECT * FROM staff_db**\n",
    "\n",
    "Pandas vasitəsi ilə bu komandanı sadəcə datafreymin adın yazmaq ilə icra edə bilərsiniz."
   ]
  },
  {
   "cell_type": "code",
   "execution_count": null,
   "metadata": {},
   "outputs": [],
   "source": [
    "staff_df.head"
   ]
  },
  {
   "cell_type": "markdown",
   "metadata": {},
   "source": [
    "**Ups!** Nədənsə (*əslində əlbəttə ki Pandasın standart ayarlarına uyğun, perfomans və praktiklik baxımından*) məlumat öyrəşdiyimiz SQL sorğulama zamanı kimi tam olaraq yox, hissə-hissə olaraq çıxdı, yəni yalnız ilk 30 və son 30 yazı əks olundu.\n",
    "\n",
    "Bu məqamı nəzərə alaraq ayarlarda maksimal sətr və sütun sayın dəyişək və limitsiz edək.(***Diqqət! Real həyatda böyük həcmli verilənlər ilə iş zamanı bunu etməyin!!!***)\n",
    "\n",
    "Maksimal sütun sayın *None* qeyd edib limitləri aradan qaldırırıq."
   ]
  },
  {
   "cell_type": "code",
   "execution_count": null,
   "metadata": {},
   "outputs": [],
   "source": [
    "pd.set_option('display.max_columns',None)"
   ]
  },
  {
   "cell_type": "markdown",
   "metadata": {},
   "source": [
    "Maksimal sətr sayın *None* qeyd edib bu limitləri də aradan qaldırırıq."
   ]
  },
  {
   "cell_type": "code",
   "execution_count": null,
   "metadata": {},
   "outputs": [],
   "source": [
    "pd.set_option('display.max_rows',None)"
   ]
  },
  {
   "cell_type": "markdown",
   "metadata": {},
   "source": [
    "Yenidən yoxlayaq ..."
   ]
  },
  {
   "cell_type": "code",
   "execution_count": null,
   "metadata": {},
   "outputs": [],
   "source": [
    "staff_df"
   ]
  },
  {
   "cell_type": "markdown",
   "metadata": {},
   "source": [
    "Əla. Davam etmək olar.\n",
    "\n",
    "Növbəti məqsədimiz yalnız tələb olunan sütunları sorğulayıb 3-ün əks etdirməkdir\n",
    "\n",
    "SQL versiya: **SELECT TOP(3) first_name, last_name, gender, job_title FROM staff_db**\n",
    "\n",
    "Pandas versiyasında sorğunun məntiqi datafreym adından sonra tələb olunan sütun adların siyahı vasitəsi ilə təmin edərək *.head()* funksiyası köməkliyi ilə **ilk** 3 yazını əks etdirməkdir."
   ]
  },
  {
   "cell_type": "code",
   "execution_count": null,
   "metadata": {},
   "outputs": [],
   "source": [
    "staff_df[['first_name','last_name','gender','job_title']].head(3)"
   ]
  },
  {
   "cell_type": "markdown",
   "metadata": {},
   "source": [
    "İlkin sorğu etməyə öyrəndik, növbə gəldi filterlərin əlavə olunmasına.\n",
    "\n",
    "SQL versiya: **SELECT TOP(3) first_name, last_name, gender, job_title FROM staff_db WHERE gender = 'Male'**\n",
    "\n",
    "Datafreym daxili filter əlavə etmək üçün **binar \"maska\"-dan** istifadə etməliyik. Amma nədir binar maska? O filterlənən sütun üzrə keçərək sütundakı hər bir sətr üzrə dəyərin tələb olunan dəyərə bərabər olub olmadığını yoxlayıb müvafiq olaraq True/False (Doğru\\Yalnız) dəyəri verir. Sonra isə bu maska üzrə sütun üzrə əks olunan dəyərləri filterləmək mümkün olur.\n",
    "\n",
    "Məsəl üçün Kişi cinsi üzrə maska yaradaq və əks etdirək:"
   ]
  },
  {
   "cell_type": "code",
   "execution_count": null,
   "metadata": {},
   "outputs": [],
   "source": [
    "binar_maska = staff_df['gender']=='Male'\n",
    "binar_maska.head(5)"
   ]
  },
  {
   "cell_type": "markdown",
   "metadata": {},
   "source": [
    "İndi isə bu maskanı tətbiq edək və cavabları yoxlayaq:"
   ]
  },
  {
   "cell_type": "code",
   "execution_count": null,
   "metadata": {},
   "outputs": [],
   "source": [
    "staff_df[['first_name','last_name','gender','job_title']][staff_df['gender']=='Male'].head(3)"
   ]
  },
  {
   "cell_type": "markdown",
   "metadata": {},
   "source": [
    "Növbəti addım - istifadə olunan filterləri artıraq və zənqinləşdirək. Elə sorğu yazaq ki *yalnız cinsi 'Kişi'*  **VƏ** *vəzifəsi 'Account Executive' olan* **VƏ YA** *adı 'Valentina' olan işçilər* siyahısı çıxsın.\n",
    "\n",
    "SQL versiya: **SELECT TOP(3) first_name, last_name, gender, job_title FROM staff_db WHERE (gender = 'Male' AND job_title = 'Account Executive') OR (first_name = 'Valentina')**\n",
    "\n",
    "Pandas-da **VƏ** məntiqi ampersand (\"***&***\") vasitəsi ilə, **VƏ YA** məntiqi isə vertikal xətt (\"**|**\") vasitəsi ilə tənzimlənir."
   ]
  },
  {
   "cell_type": "code",
   "execution_count": null,
   "metadata": {},
   "outputs": [],
   "source": [
    "staff_df[['first_name','last_name','gender','job_title']][((staff_df['gender']=='Male') & (staff_df['job_title']=='Account Executive')) | (staff_df['first_name']=='Valentina')].head(3)"
   ]
  },
  {
   "cell_type": "markdown",
   "metadata": {},
   "source": [
    "### UPDATE\n",
    "\n",
    "SQL-də UPDATE əmri məlumatın dəyişdirilməsi və yenilənməsi üçün istifadə olunur.\n",
    "\n",
    "SQL versiyası: **UPDATE staff_df SET gender = 'Male' WHERE (gender = 'Male' AND job_title = 'Account Executive') OR (first_name = 'Valentina'**)\n",
    "\n",
    "Pandas ilə sətrləri yeniləmək üçün index ilə işləmək üçün *.loc* və yenə binar maskalardan istifadə edəcəyik.\n",
    "\n",
    "Məntiq aşağıdaki kimidir: DataFreym_adı.loc[binar maska, dəyişməli sütun] = 'hədəf dəyər'"
   ]
  },
  {
   "cell_type": "code",
   "execution_count": null,
   "metadata": {},
   "outputs": [],
   "source": [
    "staff_df.loc[((staff_df['gender']=='Male') & (staff_df['job_title']=='Account Executive')) | (staff_df['first_name']=='Valentina'),'gender']='Male'"
   ]
  },
  {
   "cell_type": "code",
   "execution_count": null,
   "metadata": {},
   "outputs": [],
   "source": [
    "staff_df.head(3)"
   ]
  },
  {
   "cell_type": "markdown",
   "metadata": {},
   "source": [
    "Dəyişiklikləri yoxlayaq. Bunun üçün filtr üzrə yazılmış yazılarda 'gender' sütunun yoxlayaq."
   ]
  },
  {
   "cell_type": "code",
   "execution_count": null,
   "metadata": {},
   "outputs": [],
   "source": [
    "staff_df[['first_name','last_name','gender','job_title']][((staff_df['gender']=='Male') & (staff_df['job_title']=='Account Executive')) | (staff_df['first_name']=='Valentina')].head(3)"
   ]
  },
  {
   "cell_type": "markdown",
   "metadata": {},
   "source": [
    " 'Valentina' adlı istifadəçi sorğulanan parameterlərə uyğun gəldi və \"Female\"-dən \"Male\"-yə dəyişdi."
   ]
  },
  {
   "cell_type": "markdown",
   "metadata": {},
   "source": [
    "### INSERT\n",
    "\n",
    "SQL-də INSERT əmri məlumatın əlavə olunması üçün istifadə olunur.\n",
    "\n",
    "SQL variantı: ***INSERT INTO staff_df ('guid', 'first_name', 'last_name', 'gender', 'street', 'company', 'job_title')*** \n",
    "\n",
    "***VALUES***\n",
    "\n",
    "***('6a9472d4-4949-4f98-8543-c6878d558422', 'Omar', 'Bayramov', 'Male', NULL, 'Limpapud', NULL)***\n",
    "\n",
    "Pandas vasitəsi ilə isə eyni nəticə almaq üçün artıq tanış olan *.loc* indeks köməkçisindən istifadə edərək dəyərləri yeni **len(staff_df)** vasitəsi ilə aldığımız cədvəl uzunluğu indeksinə əlavə edirik."
   ]
  },
  {
   "cell_type": "code",
   "execution_count": null,
   "metadata": {},
   "outputs": [],
   "source": [
    "len(staff_df)"
   ]
  },
  {
   "cell_type": "code",
   "execution_count": null,
   "metadata": {},
   "outputs": [],
   "source": [
    "staff_df.loc[len(staff_df)] = ['6a9472d4-4949-4f98-8543-c6878d558422','Omar','Bayramov','Male','NaN','Limpapud','NaN']"
   ]
  },
  {
   "cell_type": "code",
   "execution_count": null,
   "metadata": {},
   "outputs": [],
   "source": [
    "staff_df.tail(3)"
   ]
  },
  {
   "cell_type": "markdown",
   "metadata": {},
   "source": [
    "## DELETE\n",
    "\n",
    "SQL-də DELETE əmri məlumatın silinməsi üçün istifadə olunur.\n",
    "\n",
    "Hər-hansı bir məlumatı datafreymdən silmək istədikdə SQL-a əks məntiqdən istifadə etməliyik.\n",
    "\n",
    "SQL variantı: ***DELETE FROM staff_db WHERE first_name = 'Omar'***\n",
    "\n",
    "Yəni əgər SQL sorğu \"***staff_db-dən 'Ömər' adlı işçiləri poz***\" əmrin verirsə Pandas sorğusu \"***staff_db-də \"Ömər\" adlı işçilərdən başqa hamısın saxla*** məntiqi istifadə edir."
   ]
  },
  {
   "cell_type": "code",
   "execution_count": null,
   "metadata": {},
   "outputs": [],
   "source": [
    "staff_df = staff_df.loc[staff_df['first_name'] != 'Omar']\n",
    "staff_df.tail(3)"
   ]
  },
  {
   "cell_type": "markdown",
   "metadata": {},
   "source": [
    "Hazırdır! Məlumat pozuldu."
   ]
  },
  {
   "cell_type": "markdown",
   "metadata": {},
   "source": [
    "### Jurnalın sonu\n",
    "\n",
    "Jurnalın sonuna çatdınız. Oxuduğunuz üçün təşəkkürlər. Bu məqalə periodik olaraq yenilənəcək və əlavələr qəbul edəcək. Sizin əlavəniz, təklifiniz, iradınız olduğu halda GitHub vasitəsi ilə \"İssue\" yaradaraq və ya aşağıda qeyd olunmuş əlaqə vasitələri ilə fikrinizi bildirə bilərsiniz.\n",
    "\n",
    "### Əlaqə\n",
    "\n",
    "Müəllif ilə əlaqə omarbayramov@hotmail.com elektron ünvan üzərindən aparıla bilər. Əlavə olaraq sosial şəbəkə və digər saytlara linklər əlavə olunur.\n",
    "[Facebook](https://www.facebook.com/Omar.X.Bayramov)\n",
    "[Wordpress Blog](https://omarbayramov.wordpress.com/)\n",
    "[LinkedIn](https://www.linkedin.com/in/omarbayramov/)\n"
   ]
  }
 ],
 "metadata": {
  "kernelspec": {
   "display_name": "Python 3",
   "language": "python",
   "name": "python3"
  },
  "language_info": {
   "codemirror_mode": {
    "name": "ipython",
    "version": 3
   },
   "file_extension": ".py",
   "mimetype": "text/x-python",
   "name": "python",
   "nbconvert_exporter": "python",
   "pygments_lexer": "ipython3",
   "version": "3.6.4"
  }
 },
 "nbformat": 4,
 "nbformat_minor": 2
}
